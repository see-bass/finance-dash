{
 "cells": [
  {
   "cell_type": "code",
   "execution_count": 1,
   "metadata": {},
   "outputs": [
    {
     "name": "stdout",
     "output_type": "stream",
     "text": [
      "{'_meta': {'companyId': '0C00004EP4', 'statementType': 'income-statement', 'periodReport': 'Success', 'latestReport': 'Success'}, 'columnDefs': ['2014', '2015', '2016', '2017', '2018', '2019', '2020', '2021', '2022', '2023', 'TTM'], 'filingIdList': ['84805163', '106475814', '128551333', '163138434', '211708709', '264149200', '320461313', '375838426', '430039925', '491383580', None], 'rows': [{'parentId': '', 'label': 'IncomeStatement', 'dataPointId': 'IFIS000000', 'order': 385, 'subLevel': [{'parentId': 'IFIS000000385', 'label': 'Gross Profit', 'dataPointId': 'IFIS000590', 'order': 386, 'datum': [881.67, 923.5, 1599.26, 2222.49, 4042.02, 4069.0, 6630.0, 13606.0, 20853.0, 17660.0, 17660.0], 'subLevel': [{'parentId': 'IFIS000590386', 'label': 'Total Revenue', 'dataPointId': 'IFIS001170', 'order': 387, 'collapsed': True, 'datum': [3198.36, 4046.03, 7000.13, 11758.75, 21461.27, 24578.0, 31536.0, 53823.0, 81462.0, 96773.0, 96773.0], 'subLevel': [{'parentId': 'IFIS001170387', 'label': 'Business Revenue', 'dataPointId': 'IFIS001839', 'order': 388, 'collapsed': True, 'datum': [3198.36, 4046.03, 7000.13, 11758.75, 21461.27, 24578.0, 31536.0, 53823.0, 81462.0, 96773.0, 96773.0]}]}, {'parentId': 'IFIS000590386', 'label': 'Cost of Revenue', 'dataPointId': 'IFIS000200', 'order': 392, 'datum': [-2316.69, -3122.52, -5400.88, -9536.26, -17419.25, -20509.0, -24906.0, -40217.0, -60609.0, -79113.0, -79113.0], 'subLevel': [{'parentId': 'IFIS000200392', 'label': 'Cost of Goods and Services', 'dataPointId': 'IFIS003118', 'order': 393, 'collapsed': True, 'datum': [-2316.69, -3122.52, -5400.88, -9536.26, -17419.25, -20509.0, -24906.0, -40217.0, -60609.0, -79113.0, -79113.0]}]}]}, {'parentId': 'IFIS000000385', 'label': 'Operating Income/Expenses', 'dataPointId': 'IFIS001220', 'order': 405, 'datum': [-1068.36, -1640.13, -2266.6, -3854.57, -4294.86, -3989.0, -4636.0, -7110.0, -7021.0, -8769.0, -8769.0], 'subLevel': [{'parentId': 'IFIS001220405', 'label': 'Selling, General and Administrative Expenses', 'dataPointId': 'IFIS001700', 'order': 406, 'datum': [-603.66, -922.23, -1432.19, -2476.5, -2834.49, -2646.0, -3145.0, -4517.0, -3946.0, -4800.0, -4800.0]}, {'parentId': 'IFIS001220405', 'label': 'Research and Development Expenses', 'dataPointId': 'IFIS001620', 'order': 431, 'collapsed': True, 'datum': [-464.7, -717.9, -834.41, -1378.07, -1460.37, -1343.0, -1491.0, -2593.0, -3075.0, -3969.0, -3969.0]}]}, {'parentId': 'IFIS000000385', 'label': 'Total Operating Profit/Loss', 'dataPointId': 'IFIS001230', 'order': 446, 'collapsed': True, 'datum': [-186.69, -716.63, -667.34, -1632.09, -252.84, 80.0, 1994.0, 6496.0, 13832.0, 8891.0, 8891.0]}, {'parentId': 'IFIS000000385', 'label': 'Non-Operating Income/Expense, Total', 'dataPointId': 'IFIS001917', 'order': 447, 'datum': [-97.95, -159.0, -79.01, -576.95, -751.91, -745.0, -840.0, -153.0, -113.0, 1082.0, 1082.0], 'subLevel': [{'parentId': 'IFIS001917447', 'label': 'Total Net Finance Income/Expense', 'dataPointId': 'IFIS000930', 'order': 448, 'datum': [-99.76, -117.34, -190.28, -451.57, -638.54, -641.0, -718.0, -315.0, 106.0, 910.0, 910.0], 'subLevel': [{'parentId': 'IFIS000930448', 'label': 'Net Interest Income/Expense', 'dataPointId': 'IFIS002367', 'order': 449, 'datum': [-99.76, -117.34, -190.28, -451.57, -638.54, -641.0, -718.0, -315.0, 106.0, 910.0, 910.0], 'subLevel': [{'parentId': 'IFIS002367449', 'label': 'Interest Expense Net of Capitalized Interest', 'dataPointId': 'IFIS000800', 'order': 450, 'datum': [-100.89, -118.85, -198.81, -471.26, -663.07, -685.0, -748.0, -371.0, -191.0, -156.0, -156.0]}, {'parentId': 'IFIS002367449', 'label': 'Interest Income', 'dataPointId': 'IFIS000910', 'order': 456, 'collapsed': True, 'datum': [1.13, 1.51, 8.53, 19.69, 24.53, 44.0, 30.0, 56.0, 297.0, 1066.0, 1066.0]}]}]}, {'parentId': 'IFIS001917447', 'label': 'Irregular Income/Expense', 'dataPointId': 'IFIS101189', 'order': 480, 'datum': [None, None, None, None, -135.23, -149.0, 0.0, 27.0, -176.0, 0.0, 0.0], 'subLevel': [{'parentId': 'IFIS101189480', 'label': 'Restructuring and Reorganization Income/Expense', 'dataPointId': 'IFIS000680', 'order': 506, 'collapsed': True, 'datum': [None, None, None, None, -135.23, -149.0, 0.0, 27.0, -176.0, 0.0, 0.0]}]}, {'parentId': 'IFIS001917447', 'label': 'Other Income/Expense, Non-Operating', 'dataPointId': 'IFIS200292', 'order': 514, 'collapsed': True, 'datum': [1.81, -41.65, 111.27, -125.37, 21.87, 45.0, -122.0, 135.0, -43.0, 172.0, 172.0]}]}, {'parentId': 'IFIS000000385', 'label': 'Pretax Income', 'dataPointId': 'IFIS001490', 'order': 518, 'collapsed': True, 'datum': [-284.64, -875.62, -746.35, -2209.03, -1004.75, -665.0, 1154.0, 6343.0, 13719.0, 9973.0, 9973.0]}, {'parentId': 'IFIS000000385', 'label': 'Provision for Income Tax', 'dataPointId': 'IFIS001560', 'order': 519, 'datum': [-9.4, -13.04, -26.7, -31.55, -57.84, -110.0, -292.0, -699.0, -1132.0, 5001.0, 5001.0]}, {'parentId': 'IFIS000000385', 'label': 'Net Income before Extraordinary Items and Discontinued Operations', 'dataPointId': 'IFIS001110', 'order': 529, 'collapsed': True, 'datum': [-294.04, -888.66, -773.05, -2240.58, -1062.58, -775.0, 862.0, 5644.0, 12587.0, 14974.0, 14974.0]}, {'parentId': 'IFIS000000385', 'label': 'Net Income after Extraordinary Items and Discontinued Operations', 'dataPointId': 'IFIS001977', 'order': 535, 'collapsed': True, 'datum': [-294.04, -888.66, -773.05, -2240.58, -1062.58, -775.0, 862.0, 5644.0, 12587.0, 14974.0, 14974.0]}, {'parentId': 'IFIS000000385', 'label': 'Non-Controlling/Minority Interests', 'dataPointId': 'IFIS001040', 'order': 536, 'collapsed': True, 'datum': [None, None, 98.13, 279.18, 86.49, -87.0, -172.0, -125.0, -4.0, 25.0, 25.0]}, {'parentId': 'IFIS000000385', 'label': 'Net Income after Non-Controlling/Minority Interests', 'dataPointId': 'IFIS001090', 'order': 537, 'collapsed': True, 'datum': [-294.04, -888.66, -674.91, -1961.4, -976.09, -862.0, 690.0, 5519.0, 12583.0, 14999.0, 14999.0]}, {'parentId': 'IFIS000000385', 'label': 'Net Income Available to Common Stockholders', 'dataPointId': 'IFIS001100', 'order': 543, 'collapsed': True, 'datum': [-294.04, -888.66, -674.91, -1961.4, -976.09, -862.0, 690.0, 5519.0, 12583.0, 14999.0, 14999.0]}, {'parentId': 'IFIS000000385', 'label': 'Dilution to Earnings', 'dataPointId': 'IFIS101211', 'order': 544, 'collapsed': True, 'datum': [None, None, None, None, None, None, None, None, 1.0, 0.0, 0.0]}, {'parentId': 'IFIS000000385', 'label': 'Diluted Net Income Available to Common Stockholders', 'dataPointId': 'IFIS002230', 'order': 545, 'collapsed': True, 'datum': [-294.04, -888.66, -674.91, -1961.4, -976.09, -862.0, 690.0, 5519.0, 12584.0, 14999.0, 14999.0]}, {'parentId': 'IFIS000000385', 'label': 'Income Statement Supplemental Section', 'dataPointId': 'IFIS002156', 'order': 560, 'datum': [None, None, None, None, None, None, None, None, None, None, None], 'subLevel': [{'parentId': 'IFIS002156560', 'label': 'Reported Normalized and Operating Income/Expense Supplemental Section', 'dataPointId': 'IFIS003147', 'order': 561, 'datum': [None, None, None, None, None, None, None, None, None, None, None], 'subLevel': [{'parentId': 'IFIS003147561', 'label': 'Total Revenue as Reported, Supplemental', 'dataPointId': 'IFIS003203', 'order': 562, 'collapsed': True, 'datum': [3198.36, 4046.03, 7000.13, 11758.75, 21461.27, 24578.0, 31536.0, 53823.0, 81462.0, 96773.0, 96773.0]}, {'parentId': 'IFIS003147561', 'label': 'Reported Operating Expense', 'dataPointId': 'IFIS003137', 'order': 563, 'collapsed': True, 'datum': [-1068.36, -1640.13, -2266.6, -3854.57, -4430.09, -4138.0, -4636.0, -7083.0, -7197.0, -8769.0, -8769.0]}, {'parentId': 'IFIS003147561', 'label': 'Reported Total Operating Profit/Loss', 'dataPointId': 'IFIS003138', 'order': 564, 'collapsed': True, 'datum': [-186.69, -716.63, -667.34, -1632.09, -388.07, -69.0, 1994.0, -6523.0, 13656.0, 8891.0, 8891.0]}, {'parentId': 'IFIS003147561', 'label': 'Reported Effective Tax Rate', 'dataPointId': 'IFIS002303', 'order': 566, 'collapsed': True, 'datum': [None, None, -0.04, 0.01, -0.06, 0.17, 0.25, 0.11, 0.08, -0.5, -0.5]}, {'parentId': 'IFIS003147561', 'label': 'Reported Normalized Income', 'dataPointId': 'IFIS002229', 'order': 565, 'collapsed': True, 'datum': [20.1, -294.9, -413.61, -1436.89, -227.07, None, 2424.0, None, None, None, None]}, {'parentId': 'IFIS003147561', 'label': 'Reported Normalized EBITDA', 'dataPointId': 'IFIS003176', 'order': 574, 'collapsed': True, 'datum': [None, None, None, None, None, None, 5817.0, None, None, None, None]}]}]}]}, {'parentId': '', 'label': 'EpsAndWaso', 'dataPointId': 'IFES000000', 'order': 935, 'subLevel': [{'parentId': 'IFES000000935', 'label': 'Basic EPS', 'dataPointId': 'IFIS000100', 'order': 936, 'datum': [-0.157333, -0.462, -0.312, -0.788667, -0.381333, -0.328, 0.246667, 1.866667, 4.02, 4.73, 4.73], 'subLevel': [{'parentId': 'IFIS000100936', 'label': 'Basic EPS from Continuing Operations', 'dataPointId': 'IFIS000120', 'order': 937, 'collapsed': True, 'datum': [-0.157333, -0.462, -0.312, -0.788667, -0.381333, -0.328, 0.246667, 1.866667, 4.02, 4.73, 4.73]}]}, {'parentId': 'IFES000000935', 'label': 'Diluted EPS', 'dataPointId': 'IFIS000280', 'order': 939, 'datum': [-0.157333, -0.462, -0.312, -0.788667, -0.381333, -0.328, 0.213333, 1.633333, 3.62, 4.3, 4.3], 'subLevel': [{'parentId': 'IFIS000280939', 'label': 'Diluted EPS from Continuing Operations', 'dataPointId': 'IFIS000300', 'order': 940, 'collapsed': True, 'datum': [-0.157333, -0.462, -0.312, -0.788667, -0.381333, -0.328, 0.213333, 1.633333, 3.62, 4.3, 4.3]}]}, {'parentId': 'IFES000000935', 'label': 'Basic Weighted Average Shares Outstanding', 'dataPointId': 'IFIS000150', 'order': 942, 'collapsed': True, 'datum': [1868.09, 1923.03, 2163.18, 2486.37, 2557.88, 2655.0, 2799.0, 2958.0, 3130.0, 3174.0, 3174.0]}, {'parentId': 'IFES000000935', 'label': 'Diluted Weighted Average Shares Outstanding', 'dataPointId': 'IFIS000330', 'order': 943, 'collapsed': True, 'datum': [1868.09, 1923.03, 2163.18, 2486.37, 2557.88, 2655.0, 3249.0, 3387.0, 3475.0, 3485.0, 3485.0]}, {'parentId': 'IFES000000935', 'label': 'Reported Normalized Diluted EPS', 'dataPointId': 'IFIS101199', 'order': 945, 'collapsed': True, 'datum': [0.009333, -0.153333, -0.191333, -0.577333, -0.088667, None, 0.746667, None, None, None, None]}, {'parentId': 'IFES000000935', 'label': 'Reported Normalized Basic EPS', 'dataPointId': 'IFIS101198', 'order': 944, 'collapsed': True, 'datum': [0.0, 0.0, 0.0, 0.0, 0.0, None, None, None, None, None, None]}]}, {'parentId': '', 'label': 'WasoAndEpsData', 'dataPointId': 'SAL0001000', 'collapsed': False, 'subLevel': [{'parentId': 'SAL0001000', 'label': 'Basic EPS', 'dataPointId': 'SAL0001001', 'collapsed': True, 'datum': [-0.1573, -0.462, -0.312, -0.7887, -0.3813, -0.328, 0.2467, 1.8667, 4.02, 4.73, 4.73]}, {'parentId': 'SAL0001000', 'label': 'Diluted EPS', 'dataPointId': 'SAL0001002', 'collapsed': True, 'datum': [-0.157333, -0.462, -0.312, -0.788667, -0.381333, -0.328, 0.213333, 1.633333, 3.62, 4.3, 4.3]}, {'parentId': 'SAL0001000', 'label': 'Basic WASO', 'dataPointId': 'SAL0001003', 'collapsed': True, 'datum': [1868.09, 1923.03, 2163.18, 2486.37, 2557.88, 2655.0, 2799.0, 2958.0, 3130.0, 3174.0, 3174.0]}, {'parentId': 'SAL0001000', 'label': 'Diluted WASO', 'dataPointId': 'SAL0001004', 'collapsed': True, 'datum': [1868.09, 1923.03, 2163.18, 2486.37, 2557.88, 2655.0, 3249.0, 3387.0, 3475.0, 3485.0, 3485.0]}]}], 'footer': {'currency': 'USD', 'currencySymbol': '$', 'orderOfMagnitude': 'Million', 'fiscalYearEndDate': '12-31'}, 'userType': 'Premium'}\n"
     ]
    }
   ],
   "source": [
    "import requests\n",
    "\n",
    "url = \"https://morning-star.p.rapidapi.com/stock/v2/get-financial-details\"\n",
    "\n",
    "querystring = {\"performanceId\":\"0P0000OQN8\",\"dataType\":\"A\",\"reportType\":\"A\",\"type\":\"incomeStatement\"}\n",
    "\n",
    "headers = {\n",
    "\t\"X-RapidAPI-Key\": \"8c86128819msh99c25f8c2e98232p12f358jsna52fccb57dbb\",\n",
    "\t\"X-RapidAPI-Host\": \"morning-star.p.rapidapi.com\"\n",
    "}\n",
    "\n",
    "response = requests.get(url, headers=headers, params=querystring)\n",
    "\n",
    "print(response.json())"
   ]
  },
  {
   "cell_type": "code",
   "execution_count": 2,
   "metadata": {},
   "outputs": [
    {
     "name": "stderr",
     "output_type": "stream",
     "text": [
      "C:\\Users\\sebas\\AppData\\Local\\Temp\\ipykernel_31060\\894373769.py:1: DeprecationWarning: \n",
      "Pyarrow will become a required dependency of pandas in the next major release of pandas (pandas 3.0),\n",
      "(to allow more performant data types, such as the Arrow string type, and better interoperability with other libraries)\n",
      "but was not found to be installed on your system.\n",
      "If this would cause problems for you,\n",
      "please provide us feedback at https://github.com/pandas-dev/pandas/issues/54466\n",
      "        \n",
      "  import pandas as pd\n"
     ]
    },
    {
     "name": "stdout",
     "output_type": "stream",
     "text": [
      "      2014     2015     2016      2017      2018     2019     2020     2021  \\\n",
      "0   881.67   923.50  1599.26   2222.49   4042.02   4069.0   6630.0  13606.0   \n",
      "1  3198.36  4046.03  7000.13  11758.75  21461.27  24578.0  31536.0  53823.0   \n",
      "2  3198.36  4046.03  7000.13  11758.75  21461.27  24578.0  31536.0  53823.0   \n",
      "3 -2316.69 -3122.52 -5400.88  -9536.26 -17419.25 -20509.0 -24906.0 -40217.0   \n",
      "4 -2316.69 -3122.52 -5400.88  -9536.26 -17419.25 -20509.0 -24906.0 -40217.0   \n",
      "\n",
      "      2022     2023      TTM  \\\n",
      "0  20853.0  17660.0  17660.0   \n",
      "1  81462.0  96773.0  96773.0   \n",
      "2  81462.0  96773.0  96773.0   \n",
      "3 -60609.0 -79113.0 -79113.0   \n",
      "4 -60609.0 -79113.0 -79113.0   \n",
      "\n",
      "                                               label  \n",
      "0                       IncomeStatementGross Profit/  \n",
      "1         IncomeStatementGross Profit/Total Revenue/  \n",
      "2  IncomeStatementGross Profit/Total Revenue/Busi...  \n",
      "3       IncomeStatementGross Profit/Cost of Revenue/  \n",
      "4  IncomeStatementGross Profit/Cost of Revenue/Co...  \n"
     ]
    },
    {
     "name": "stderr",
     "output_type": "stream",
     "text": [
      "C:\\Users\\sebas\\AppData\\Local\\Temp\\ipykernel_31060\\894373769.py:23: FutureWarning: The behavior of DataFrame concatenation with empty or all-NA entries is deprecated. In a future version, this will no longer exclude empty or all-NA columns when determining the result dtypes. To retain the old behavior, exclude the relevant entries before the concat operation.\n",
      "  flattened_data = pd.concat(flatten_data(data['rows']))\n"
     ]
    }
   ],
   "source": [
    "import pandas as pd\n",
    "\n",
    "# Sample JSON data\n",
    "data = response.json()\n",
    "\n",
    "def flatten_data(rows, path=''):\n",
    "    \"\"\"\n",
    "    Recursively flatten the JSON data and extract relevant information.\n",
    "    \"\"\"\n",
    "    for row in rows:\n",
    "        new_path = f\"{path}{row['label']}/\" if path else row['label']\n",
    "        if 'datum' in row:\n",
    "            # Create a DataFrame from the datum\n",
    "            temp_df = pd.DataFrame([row['datum']], columns=data['columnDefs'])\n",
    "            temp_df['label'] = new_path\n",
    "            yield temp_df\n",
    "\n",
    "        # Recursively process sub-levels\n",
    "        if 'subLevel' in row:\n",
    "            yield from flatten_data(row['subLevel'], new_path)\n",
    "\n",
    "# Flattening the JSON data\n",
    "flattened_data = pd.concat(flatten_data(data['rows']))\n",
    "\n",
    "# Resetting index\n",
    "flattened_data.reset_index(drop=True, inplace=True)\n",
    "\n",
    "# View the DataFrame\n",
    "print(flattened_data.head())\n"
   ]
  }
 ],
 "metadata": {
  "kernelspec": {
   "display_name": ".venv",
   "language": "python",
   "name": "python3"
  },
  "language_info": {
   "codemirror_mode": {
    "name": "ipython",
    "version": 3
   },
   "file_extension": ".py",
   "mimetype": "text/x-python",
   "name": "python",
   "nbconvert_exporter": "python",
   "pygments_lexer": "ipython3",
   "version": "3.10.2"
  }
 },
 "nbformat": 4,
 "nbformat_minor": 2
}
